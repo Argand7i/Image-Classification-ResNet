{
  "nbformat": 4,
  "nbformat_minor": 0,
  "metadata": {
    "colab": {
      "name": "Pre-processing.ipynb",
      "provenance": [],
      "collapsed_sections": [],
      "toc_visible": true,
      "include_colab_link": true
    },
    "kernelspec": {
      "name": "python3",
      "display_name": "Python 3"
    },
    "accelerator": "GPU"
  },
  "cells": [
    {
      "cell_type": "markdown",
      "metadata": {
        "id": "view-in-github",
        "colab_type": "text"
      },
      "source": [
        "<a href=\"https://colab.research.google.com/github/titulacion2021/Image-Classification-ResNet/blob/main/Pre_processing.ipynb\" target=\"_parent\"><img src=\"https://colab.research.google.com/assets/colab-badge.svg\" alt=\"Open In Colab\"/></a>"
      ]
    },
    {
      "cell_type": "code",
      "metadata": {
        "id": "ZslQsq128u8Q"
      },
      "source": [
        "import skimage.io as io\n",
        "from skimage.transform import  rescale,resize\n",
        "from skimage import exposure\n",
        "from skimage.util import img_as_uint,img_as_ubyte\n",
        "from skimage.color import rgb2gray\n",
        "\n",
        "\n",
        "import cv2\n",
        "import os\n",
        "\n",
        "import numpy as np\n",
        "%matplotlib inline"
      ],
      "execution_count": null,
      "outputs": []
    },
    {
      "cell_type": "code",
      "metadata": {
        "id": "ctVhszpV2139",
        "colab": {
          "base_uri": "https://localhost:8080/"
        },
        "outputId": "8346b84d-a010-4d66-f36d-3c44dba70475"
      },
      "source": [
        "#Google Drive Aceess\n",
        "from google.colab import drive\n",
        "drive.mount('/content/drive')"
      ],
      "execution_count": null,
      "outputs": [
        {
          "output_type": "stream",
          "text": [
            "Mounted at /content/drive\n"
          ],
          "name": "stdout"
        }
      ]
    },
    {
      "cell_type": "code",
      "metadata": {
        "colab": {
          "base_uri": "https://localhost:8080/"
        },
        "id": "k-6xxzEN9yHf",
        "outputId": "5954628f-4a27-462d-8fcf-8416f2ba3d34"
      },
      "source": [
        "#Zip with all the dataset\n",
        "!unzip -q OriginalimagesC.zip \n",
        "!ls"
      ],
      "execution_count": null,
      "outputs": [
        {
          "output_type": "stream",
          "text": [
            "covid  drive  normal  OriginalimagesC.zip  pneumonia  sample_data\n"
          ],
          "name": "stdout"
        }
      ]
    },
    {
      "cell_type": "markdown",
      "metadata": {
        "id": "PQS2J-AvEvmy"
      },
      "source": [
        "# Data Preprocessing\n"
      ]
    },
    {
      "cell_type": "code",
      "metadata": {
        "id": "w0aD8cNW_cre"
      },
      "source": [
        "#COVID CATEGORY PRE-PROCESSING \n",
        "destination_dir1='/content/drive/MyDrive/Data/Processeddata/Covid' #COVID Pre-processed images destination directory\n",
        "image_list=os.listdir('/content/covid')#COVID unprocessed images directory\n",
        "img_size = 224 \n",
        "\n",
        "for img_name in image_list:\n",
        "    img=io.imread(os.path.join('/content/covid',img_name)) \n",
        "    #RGB2GRAY\n",
        "    img_gray = rgb2gray(img) \n",
        "    #RESIZE\n",
        "    img_resized = resize(img_gray, (224, 224)) \n",
        "    #CLAHE\n",
        "    img_CLAHE  = exposure.equalize_adapthist(img_resized)    \n",
        "    \n",
        "    img_resized_8bit=img_as_ubyte(img_CLAHE)\n",
        "    io.imsave(os.path.join(destination_dir1,img_name),img_resized_8bit)"
      ],
      "execution_count": null,
      "outputs": []
    },
    {
      "cell_type": "code",
      "metadata": {
        "id": "QD4uWxrHAb2U"
      },
      "source": [
        "#NORMAL CATEGORY PRE-PROCESSING \n",
        "destination_dir2='/content/drive/MyDrive/Data/Processeddata/Normal' #NORMAL Pre-processed images destination directory\n",
        "image_list=os.listdir('/content/normal') #NORMAL unprocessed images directory\n",
        "img_size = 224 \n",
        "\n",
        "for img_name in image_list:\n",
        "    img=io.imread(os.path.join('/content/normal',img_name)) \n",
        "\n",
        "    #RGB2GRAY\n",
        "    img_gray = rgb2gray(img) \n",
        "    #RESIZE\n",
        "    img_resized = resize(img_gray, (224, 224)) \n",
        "    #CLAHE\n",
        "    img_CLAHE  = exposure.equalize_adapthist(img_resized)\n",
        "    \n",
        "    img_resized_8bit=img_as_ubyte(img_CLAHE)\n",
        "    io.imsave(os.path.join(destination_dir2,img_name),img_resized_8bit)"
      ],
      "execution_count": null,
      "outputs": []
    },
    {
      "cell_type": "code",
      "metadata": {
        "id": "iNu1bkhGnWbB"
      },
      "source": [
        "#PNEUMONIA CATEGORY PRE-PROCESSING \n",
        "destination_dir3='/content/drive/MyDrive/Data/Processeddata/Pneumonia'#PNEUMONIA Pre-processed images destination directory\n",
        "image_list=os.listdir('/content/pneumonia') #Pneumonia unprocessed images directory\n",
        "img_size = 224 \n",
        "\n",
        "for img_name in image_list:\n",
        "    img=io.imread(os.path.join('/content/pneumonia',img_name))\n",
        "\n",
        "    #RGB2GRAY\n",
        "    img_gray = rgb2gray(img) \n",
        "    #RESIZE\n",
        "    img_resized = resize(img_gray, (224, 224)) \n",
        "    #CLAHE\n",
        "    img_CLAHE  = exposure.equalize_adapthist(img_resized)\n",
        "\n",
        "    img_resized_8bit=img_as_ubyte(img_CLAHE)\n",
        "    io.imsave(os.path.join(destination_dir3,img_name),img_resized_8bit)"
      ],
      "execution_count": null,
      "outputs": []
    }
  ]
}